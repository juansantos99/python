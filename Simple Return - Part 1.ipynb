{
 "cells": [
  {
   "cell_type": "code",
   "execution_count": 1,
   "metadata": {},
   "outputs": [],
   "source": [
    "import numpy as np\n",
    "from pandas_datareader import data as wb\n",
    "import matplotlib.pyplot as plt"
   ]
  },
  {
   "cell_type": "code",
   "execution_count": 34,
   "metadata": {},
   "outputs": [],
   "source": [
    "PG = wb.DataReader ('JBSS3.SA', data_source='yahoo', start='2018-10-1')\n"
   ]
  },
  {
   "cell_type": "code",
   "execution_count": 35,
   "metadata": {},
   "outputs": [
    {
     "data": {
      "text/html": [
       "<div>\n",
       "<style scoped>\n",
       "    .dataframe tbody tr th:only-of-type {\n",
       "        vertical-align: middle;\n",
       "    }\n",
       "\n",
       "    .dataframe tbody tr th {\n",
       "        vertical-align: top;\n",
       "    }\n",
       "\n",
       "    .dataframe thead th {\n",
       "        text-align: right;\n",
       "    }\n",
       "</style>\n",
       "<table border=\"1\" class=\"dataframe\">\n",
       "  <thead>\n",
       "    <tr style=\"text-align: right;\">\n",
       "      <th></th>\n",
       "      <th>High</th>\n",
       "      <th>Low</th>\n",
       "      <th>Open</th>\n",
       "      <th>Close</th>\n",
       "      <th>Volume</th>\n",
       "      <th>Adj Close</th>\n",
       "    </tr>\n",
       "    <tr>\n",
       "      <th>Date</th>\n",
       "      <th></th>\n",
       "      <th></th>\n",
       "      <th></th>\n",
       "      <th></th>\n",
       "      <th></th>\n",
       "      <th></th>\n",
       "    </tr>\n",
       "  </thead>\n",
       "  <tbody>\n",
       "    <tr>\n",
       "      <th>2018-10-01</th>\n",
       "      <td>9.38</td>\n",
       "      <td>9.21</td>\n",
       "      <td>9.35</td>\n",
       "      <td>9.29</td>\n",
       "      <td>3542100.0</td>\n",
       "      <td>9.288945</td>\n",
       "    </tr>\n",
       "    <tr>\n",
       "      <th>2018-10-02</th>\n",
       "      <td>9.55</td>\n",
       "      <td>9.29</td>\n",
       "      <td>9.31</td>\n",
       "      <td>9.31</td>\n",
       "      <td>7588900.0</td>\n",
       "      <td>9.308944</td>\n",
       "    </tr>\n",
       "    <tr>\n",
       "      <th>2018-10-03</th>\n",
       "      <td>9.45</td>\n",
       "      <td>9.23</td>\n",
       "      <td>9.41</td>\n",
       "      <td>9.28</td>\n",
       "      <td>19581900.0</td>\n",
       "      <td>9.278946</td>\n",
       "    </tr>\n",
       "    <tr>\n",
       "      <th>2018-10-04</th>\n",
       "      <td>9.24</td>\n",
       "      <td>8.80</td>\n",
       "      <td>9.19</td>\n",
       "      <td>8.84</td>\n",
       "      <td>40813800.0</td>\n",
       "      <td>8.838996</td>\n",
       "    </tr>\n",
       "    <tr>\n",
       "      <th>2018-10-05</th>\n",
       "      <td>8.92</td>\n",
       "      <td>8.17</td>\n",
       "      <td>8.90</td>\n",
       "      <td>8.65</td>\n",
       "      <td>38845100.0</td>\n",
       "      <td>8.649017</td>\n",
       "    </tr>\n",
       "  </tbody>\n",
       "</table>\n",
       "</div>"
      ],
      "text/plain": [
       "            High   Low  Open  Close      Volume  Adj Close\n",
       "Date                                                      \n",
       "2018-10-01  9.38  9.21  9.35   9.29   3542100.0   9.288945\n",
       "2018-10-02  9.55  9.29  9.31   9.31   7588900.0   9.308944\n",
       "2018-10-03  9.45  9.23  9.41   9.28  19581900.0   9.278946\n",
       "2018-10-04  9.24  8.80  9.19   8.84  40813800.0   8.838996\n",
       "2018-10-05  8.92  8.17  8.90   8.65  38845100.0   8.649017"
      ]
     },
     "execution_count": 35,
     "metadata": {},
     "output_type": "execute_result"
    }
   ],
   "source": [
    "PG.head()\n"
   ]
  },
  {
   "cell_type": "code",
   "execution_count": 36,
   "metadata": {},
   "outputs": [
    {
     "name": "stdout",
     "output_type": "stream",
     "text": [
      "Date\n",
      "2018-10-01         NaN\n",
      "2018-10-02    0.002153\n",
      "2018-10-03   -0.003222\n",
      "2018-10-04   -0.047414\n",
      "2018-10-05   -0.021493\n",
      "2018-10-08    0.026590\n",
      "2018-10-09    0.002252\n",
      "2018-10-10    0.002247\n",
      "2018-10-11    0.024664\n",
      "2018-10-15    0.008753\n",
      "2018-10-16    0.015184\n",
      "2018-10-17    0.004273\n",
      "2018-10-18    0.017021\n",
      "2018-10-19    0.010460\n",
      "2018-10-22    0.021739\n",
      "2018-10-23    0.032421\n",
      "2018-10-24   -0.028459\n",
      "2018-10-25    0.011111\n",
      "2018-10-26    0.001998\n",
      "2018-10-29   -0.025922\n",
      "2018-10-30    0.054248\n",
      "2018-10-31   -0.004854\n",
      "2018-11-01   -0.006829\n",
      "2018-11-05    0.025540\n",
      "2018-11-06   -0.015326\n",
      "2018-11-07    0.026265\n",
      "2018-11-08   -0.024645\n",
      "2018-11-09   -0.032070\n",
      "2018-11-12    0.000000\n",
      "2018-11-13   -0.011044\n",
      "                ...   \n",
      "2019-09-20    0.042510\n",
      "2019-09-23   -0.006472\n",
      "2019-09-24    0.071010\n",
      "2019-09-25    0.009732\n",
      "2019-09-26   -0.012048\n",
      "2019-09-27   -0.010671\n",
      "2019-09-30    0.010478\n",
      "2019-10-01    0.004880\n",
      "2019-10-02   -0.044006\n",
      "2019-10-03    0.012698\n",
      "2019-10-04   -0.010972\n",
      "2019-10-07   -0.014897\n",
      "2019-10-08   -0.013835\n",
      "2019-10-09   -0.039152\n",
      "2019-10-10   -0.010187\n",
      "2019-10-11    0.008576\n",
      "2019-10-14   -0.013605\n",
      "2019-10-15    0.003448\n",
      "2019-10-16    0.008247\n",
      "2019-10-17   -0.006817\n",
      "2019-10-18   -0.003432\n",
      "2019-10-21    0.027893\n",
      "2019-10-22    0.013400\n",
      "2019-10-23   -0.018843\n",
      "2019-10-24   -0.019542\n",
      "2019-10-25   -0.025773\n",
      "2019-10-28    0.013757\n",
      "2019-10-29   -0.007655\n",
      "2019-10-30    0.014376\n",
      "2019-10-31   -0.022122\n",
      "Name: simple_return, Length: 269, dtype: float64\n"
     ]
    }
   ],
   "source": [
    "PG['simple_return'] = (PG['Adj Close']) / (PG['Adj Close'].shift(1)) - 1\n",
    "print (PG['simple_return'])"
   ]
  },
  {
   "cell_type": "code",
   "execution_count": 37,
   "metadata": {},
   "outputs": [
    {
     "data": {
      "text/plain": [
       "<matplotlib.axes._subplots.AxesSubplot at 0x1fb37468400>"
      ]
     },
     "execution_count": 37,
     "metadata": {},
     "output_type": "execute_result"
    },
    {
     "data": {
      "image/png": "[encoded data removed]",
      "text/plain": [
       "<Figure size 576x360 with 1 Axes>"
      ]
     },
     "metadata": {},
     "output_type": "display_data"
    }
   ],
   "source": [
    "PG['simple_return'].plot(figsize=(8,5))"
   ]
  },
  {
   "cell_type": "code",
   "execution_count": 38,
   "metadata": {},
   "outputs": [
    {
     "data": {
      "text/plain": [
       "0.004568377880710954"
      ]
     },
     "execution_count": 38,
     "metadata": {},
     "output_type": "execute_result"
    }
   ],
   "source": [
    "avg_returns_d = PG['simple_return'].mean()\n",
    "avg_returns_d\n",
    "#media diaria de retorno"
   ]
  },
  {
   "cell_type": "code",
   "execution_count": 39,
   "metadata": {},
   "outputs": [
    {
     "data": {
      "text/plain": [
       "1.1420944701777385"
      ]
     },
     "execution_count": 39,
     "metadata": {},
     "output_type": "execute_result"
    }
   ],
   "source": [
    "avg_returns_a = PG['simple_return'].mean() *250\n",
    "avg_returns_a"
   ]
  },
  {
   "cell_type": "code",
   "execution_count": 40,
   "metadata": {},
   "outputs": [
    {
     "name": "stdout",
     "output_type": "stream",
     "text": [
      "114.209%\n"
     ]
    }
   ],
   "source": [
    "print (str(round(avg_returns_a, 5)* 100) + '%')"
   ]
  },
  {
   "cell_type": "code",
   "execution_count": null,
   "metadata": {},
   "outputs": [],
   "source": []
  }
 ],
 "metadata": {
  "kernelspec": {
   "display_name": "Python 3",
   "language": "python",
   "name": "python3"
  },
  "language_info": {
   "codemirror_mode": {
    "name": "ipython",
    "version": 3
   },
   "file_extension": ".py",
   "mimetype": "text/x-python",
   "name": "python",
   "nbconvert_exporter": "python",
   "pygments_lexer": "ipython3",
   "version": "3.6.5"
  }
 },
 "nbformat": 4,
 "nbformat_minor": 2
}
